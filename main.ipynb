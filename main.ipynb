{
  "cells": [
    {
      "cell_type": "code",
      "execution_count": null,
      "metadata": {},
      "outputs": [],
      "source": [
        "import pandas as pd\n",
        "import numpy as np\n",
        "import re\n",
        "\n",
        "from sklearn.model_selection import KFold\n",
        "from sklearn.tree import DecisionTreeClassifier\n",
        "from sklearn.model_selection import train_test_split\n",
        "from sklearn.neighbors import KNeighborsClassifier\n",
        "from sklearn.naive_bayes import GaussianNB\n",
        "from sklearn.metrics import confusion_matrix\n",
        "from sklearn.metrics import accuracy_score\n",
        "from sklearn.preprocessing import StandardScaler"
      ]
    },
    {
      "cell_type": "code",
      "execution_count": null,
      "metadata": {},
      "outputs": [],
      "source": [
        "# Đọc dữ liệu\n",
        "data = pd.read_excel('Dry_Bean_Dataset.xlsx')\n",
        "\n",
        "#Fill dữ liệu trùng với cái trước nó\n",
        "data = data.fillna(method='pad')"
      ]
    },
    {
      "cell_type": "code",
      "execution_count": null,
      "metadata": {},
      "outputs": [],
      "source": [
        "# Đưa dữ liệu về đúng kiểu của nó\n",
        "def to_typedata(dataset_name, features, typedata):\n",
        "    dataset_name[features] = dataset_name[features].astype(typedata)\n",
        "\n",
        "# Đổi dữ liệu cột Object về dữ liệu kiểu số\n",
        "def transfer_to_numberic_data(dataset_name, features):\n",
        "    for col in features:\n",
        "        i = 0\n",
        "        unique_values = np.unique(dataset_name[col])\n",
        "        for value in unique_values:\n",
        "            dataset_name[col] = np.where(dataset_name[col] == value, i, dataset_name[col])\n",
        "            i+=1\n",
        "    return dataset_name\n",
        "\n",
        "# Đổi dữ liệu cột String về dữ liệu kiểu số (float)\n",
        "def transfer_string_to_float_data(dataset_name, features):\n",
        "    for col in features:\n",
        "        col_values = dataset_name[col]\n",
        "        for value in col_values:\n",
        "            if isinstance(value, str):\n",
        "                dataset_name[col] = float(value.replace(',', '.'))\n",
        "            else:\n",
        "                dataset_name[col] = float(value)\n",
        "    return dataset_name"
      ]
    },
    {
      "cell_type": "code",
      "execution_count": null,
      "metadata": {},
      "outputs": [],
      "source": [
        "#------Đổi dữ liệu String sang dữ liệu kiểu số---------\n",
        "columns = ['Class']\n",
        "data = transfer_to_numberic_data(data, columns)\n",
        "\n",
        "junk_column = ['Compactness', 'ShapeFactor3']\n",
        "data = transfer_string_to_float_data(data, junk_column)\n",
        "\n",
        "scaler = StandardScaler();\n",
        "\n",
        "X = data.iloc[:,0:17]\n",
        "\n",
        "# Chuyển đổi dữ liệu kiểu số để thư viện sklearn nhận diện\n",
        "y = data.Class\n",
        "y = y.astype('int')"
      ]
    },
    {
      "cell_type": "code",
      "execution_count": null,
      "metadata": {},
      "outputs": [],
      "source": [
        "# Kiểm tra dữ liệu isnull?\n",
        "print(\"\\n\")\n",
        "print(\"Kiem tra xem du lieu co bi thieu (NULL) khong?\")\n",
        "print(data.isnull().sum())"
      ]
    },
    {
      "cell_type": "code",
      "execution_count": null,
      "metadata": {},
      "outputs": [],
      "source": [
        "# Chuyển đổi kiểu đối tượng\n",
        "features = ['Class']\n",
        "to_typedata(data, features, 'int64')"
      ]
    },
    {
      "cell_type": "code",
      "execution_count": null,
      "metadata": {},
      "outputs": [],
      "source": [
        "# ----------------------------Nghi Thức HOLD_OUT----------------------------\n",
        "print(\"Nghi thuc kiem tra Hold_out\\n\")\n",
        "max = 0;\n",
        "max_index = 0;\n",
        "X_train, X_test, y_train, y_test = train_test_split(scaler.fit_transform(X), y, test_size=1/3.0, random_state = 10)\n",
        "for i in range(1, 11):\n",
        "\tTree = DecisionTreeClassifier(criterion=\"entropy\", random_state=10, max_depth=i+5, min_samples_leaf=i+1)\n",
        "\tTree.fit(X_train, y_train)\n",
        "\ty_pred = Tree.predict(X_test)\n",
        "\tacc = accuracy_score(y_test, y_pred)\n",
        "\tif (max <= acc):\n",
        "\t\tmax = acc\n",
        "\t\tmax_index = i\n",
        "\tprint (\"Lan lap \", i, \" Do chinh xac =\", round(acc*100, 2))\n"
      ]
    },
    {
      "cell_type": "code",
      "execution_count": null,
      "metadata": {},
      "outputs": [],
      "source": [
        "# # ----------------------------Nghi Thức K_FOLD----------------------------\n",
        "kf = KFold(n_splits=10, shuffle = True)\n",
        "\n",
        "print(\"\\nNghi thuc kiem tra K-fold\\n\")\n",
        "\n",
        "KNN = KNeighborsClassifier(n_neighbors = 10)\n",
        "\n",
        "Bayes = GaussianNB()\n",
        "\n",
        "Tree = DecisionTreeClassifier(criterion=\"entropy\", random_state=10, max_depth=max_index, min_samples_leaf=max_index)\n",
        "\n",
        "total_acc_tree = 0\n",
        "total_acc_knn = 0\n",
        "total_acc_bayes = 0\n",
        "arrTree = []\n",
        "arrKNN = []\n",
        "arrBayes = []\n",
        "\n",
        "i=1\n",
        "\n",
        "for train_index, test_index in kf.split(X):\n",
        "\t#-------------Split Data--------------\n",
        "\tX_train, X_test = X.iloc[train_index], X.iloc[test_index]\n",
        "\ty_train, y_test = y.iloc[train_index], y.iloc[test_index]\n",
        " \n",
        "\tprint(\"=============================\")\n",
        "\tprint(\"\\nLan lap thu\", i, \"\")\n",
        "\ti = i + 1\n",
        "\n",
        "\t#--------DecisionTree----------\n",
        "\tTree.fit(X_train, y_train)\n",
        "\ty_pred = Tree.predict(X_test)\n",
        "\tacc_tree = accuracy_score(y_test, y_pred) * 100\n",
        "\ttotal_acc_tree += acc_tree\n",
        "\tmatrix = confusion_matrix(y_test, y_pred, labels=[1, 0])\n",
        "\tprint(\"\\nConfusion Matrix cua Decision Tree\")\n",
        "\tprint(matrix)\n",
        "\n",
        "\t#-------------KNN--------------\n",
        "\tKNN.fit(X_train, y_train)\n",
        "\ty_pred = KNN.predict(X_test)\n",
        "\tacc_knn = accuracy_score(y_test, y_pred) * 100\n",
        "\ttotal_acc_knn += acc_knn\n",
        "\n",
        "\t#------------Bayes-------------\n",
        "\tBayes.fit(X_train, y_train)\n",
        "\ty_pred = Bayes.predict(X_test)\n",
        "\tacc_bayes = accuracy_score(y_test, y_pred) * 100\n",
        "\ttotal_acc_bayes += acc_bayes\n",
        "\n",
        "\tarrTree.append(round(acc_tree, 2))\n",
        "\tarrKNN.append(round(acc_knn, 2))\n",
        "\tarrBayes.append(round(acc_bayes, 2))\n",
        "\n",
        "\tprint(\"Do chinh xac Tree: \", round(acc_tree, 2), \"%\", \"\\nDo chinh xac KNN: \", round(acc_knn, 2), \"%\", \"\\nDo chinh xac Bayes: \", round(acc_bayes, 2), \"%\\n\")\n",
        "\n",
        "print(\"Tree\", arrTree)\n",
        "print(\"KNN\", arrKNN)\n",
        "print(\"Bayes\", arrBayes)\n",
        "\n",
        "print(\"\\nDo chinh xac TB:\\nTree : \", round(float(total_acc_tree/10), 2), \"%\\nKNN : \", round(total_acc_knn/10, 2), \"%\\nBayes : \", round(total_acc_bayes/10, 2), \"%\")"
      ]
    }
  ],
  "metadata": {
    "anaconda-cloud": {},
    "kernelspec": {
      "display_name": "Python 3",
      "language": "python",
      "name": "python3"
    },
    "language_info": {
      "codemirror_mode": {
        "name": "ipython",
        "version": 3
      },
      "file_extension": ".py",
      "mimetype": "text/x-python",
      "name": "python",
      "nbconvert_exporter": "python",
      "pygments_lexer": "ipython3",
      "version": "3.11.4"
    }
  },
  "nbformat": 4,
  "nbformat_minor": 4
}
